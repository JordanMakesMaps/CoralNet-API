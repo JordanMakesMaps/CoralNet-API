{
 "cells": [
  {
   "cell_type": "code",
   "execution_count": null,
   "metadata": {},
   "outputs": [],
   "source": [
    "# Imports necessary libraries\n",
    "import dropbox\n",
    "import json\n",
    "import random\n",
    "import requests\n",
    "import time\n",
    "import os\n",
    "import glob\n",
    "\n",
    "from PIL import Image"
   ]
  },
  {
   "cell_type": "code",
   "execution_count": null,
   "metadata": {},
   "outputs": [],
   "source": [
    "img_files = glob.glob(\"Data\\\\Images\\\\*.jpg\")[:5]"
   ]
  },
  {
   "cell_type": "code",
   "execution_count": null,
   "metadata": {},
   "outputs": [],
   "source": [
    "# Defines variables\n",
    "folder_to_use = 'ARMS'\n",
    "local_path = 'JSON_files\\\\' \n",
    "dropbox_path = '/CoralNet/' \n",
    "\n",
    "dropbox_token = ''\n",
    "# Connects to our Dropbox account\n",
    "dbx = dropbox.Dropbox(dropbox_token)\n",
    "dbx.users_get_current_account()"
   ]
  },
  {
   "cell_type": "code",
   "execution_count": null,
   "metadata": {},
   "outputs": [],
   "source": [
    "url     = 'https://coralnet.ucsd.edu/api/token_auth/'\n",
    "payload = '{ \"username\" : \"*\", \"password\" : *\"}'\n",
    "headers = {\"Content-type\" : \"application/vnd.api+json\"}\n",
    "coralnet_token = requests.post(url, data = payload, headers = headers).text.split(':\"')[-1][:-2]\n",
    "\n",
    "print(coralnet_token)\n",
    "\n",
    "# The URL of the source used to annotate images\n",
    "classifier_url = 'https://coralnet.ucsd.edu/api/classifier/12475/deploy/' # 12068, 12475\n",
    "\n",
    "# Saves the classifier URL you will be using and your CoralNet authorization token\n",
    "headers = {\"Authorization\": f\"Token {coralnet_token}\", \n",
    "           \"Content-type\": \"application/vnd.api+json\"}"
   ]
  },
  {
   "cell_type": "code",
   "execution_count": null,
   "metadata": {},
   "outputs": [],
   "source": [
    "# Stores the image file names currently in dropbox folder\n",
    "file_list = []\n",
    "\n",
    "# Pulls out first N (limit) image files from folder\n",
    "files = dbx.files_list_folder(f'{dropbox_path}{folder_to_use}', limit = 1)\n",
    "file_list.extend(files.entries)\n",
    "\n",
    "print(\"Number of files collected:\", len(file_list))"
   ]
  },
  {
   "cell_type": "code",
   "execution_count": null,
   "metadata": {},
   "outputs": [],
   "source": [
    "from coralnet_api_utils import *\n",
    "\n",
    "width = 6000\n",
    "height = 6000\n",
    "offset = 1\n",
    "percentage = .00056\n",
    "sampling_method = 'grid'\n",
    "per_image = 20\n",
    "\n",
    "print(\"Number of points:\", int(height * width * percentage * .01))\n",
    "print(\"Offset:\", int(2 * .01 * height))"
   ]
  },
  {
   "cell_type": "code",
   "execution_count": null,
   "metadata": {},
   "outputs": [],
   "source": [
    "data = {\"data\":[]}\n",
    "\n",
    "for _, entry in enumerate(file_list):\n",
    "    \n",
    "    assert entry.name == img_files[_].split(\"\\\\\")[-1]\n",
    "    \n",
    "    img = Image.open(img_files[_])\n",
    "    width, height = img.size\n",
    "    \n",
    "    for __ in range(per_image):\n",
    "    \n",
    "        # Local address and URL dropbox address to the image file, makes the URL shareable (swaps '0' with '1')\n",
    "        local_address = f'{dropbox_path}{folder_to_use}/' + entry.name\n",
    "        URL_address = dbx.sharing_create_shared_link(path = local_address, short_url = False, pending_upload = None)\n",
    "        URL_address.url = URL_address.url[ : -1] + '1'\n",
    "\n",
    "        points = get_points(height, width, offset, percentage, sampling_method)\n",
    "\n",
    "        point_locations = {\"type\" : \"image\", \n",
    "                           \"attributes\": {\"url\" : URL_address.url, \n",
    "                                          \"points\": points\n",
    "                                      }\n",
    "                                  }\n",
    "\n",
    "        data['data'].append(point_locations)\n",
    "\n",
    "with open(f'{local_path}{folder_to_use}_Full_Request.json', 'w') as outfile:\n",
    "    json.dump(data, outfile)"
   ]
  },
  {
   "cell_type": "code",
   "execution_count": null,
   "metadata": {},
   "outputs": [],
   "source": [
    "len(data['data'])"
   ]
  },
  {
   "cell_type": "code",
   "execution_count": null,
   "metadata": {},
   "outputs": [],
   "source": [
    "def check_status(r):\n",
    "    \n",
    "    # Sends a request to retrieve the completed annotations, obtains status update\n",
    "    r_status = requests.get(url = 'https://coralnet.ucsd.edu' + r.headers['Location'], \n",
    "                            headers = {\"Authorization\": f\"Token {coralnet_token}\"})\n",
    "\n",
    "    # Extracts the content from the status update\n",
    "    curr_status, message = decode_status(r_status)\n",
    "        \n",
    "    return curr_status, message    "
   ]
  },
  {
   "cell_type": "code",
   "execution_count": null,
   "metadata": {},
   "outputs": [],
   "source": [
    "export = {\"data\": []}"
   ]
  },
  {
   "cell_type": "code",
   "execution_count": null,
   "metadata": {
    "scrolled": false
   },
   "outputs": [],
   "source": [
    "patience = 60\n",
    "\n",
    "for _ in range(len(data['data'])):\n",
    "    \n",
    "    reported = False\n",
    "    \n",
    "    # Break the data into batches of N (CoralNet requirement)\n",
    "    current_batch = {\"data\" : data['data'][_ : _ + 1]}\n",
    "    \n",
    "    with open(f'{local_path}Batch_{str(_+1)}.json', 'w') as outfile:\n",
    "        json.dump(current_batch, outfile)\n",
    "    \n",
    "    print(\"\\nCurrently on batch:\", str(_ + 1), \" containing:\", len(current_batch['data']), \" entries.\")\n",
    "\n",
    "    r = requests.post(url = classifier_url, data = open(f\"{local_path}Batch_{str(_+1)}.json\"), headers = headers) \n",
    "    \n",
    "    if(r.content.decode() != ''):\n",
    "        print(\"Error: \", r)\n",
    "        break\n",
    "    else:\n",
    "        print(\"Request sent successfully.\")\n",
    "\n",
    "    # Waits 5 seconds before attempting to retrieve results\n",
    "    time.sleep(patience)     \n",
    "    in_progress = True\n",
    "    \n",
    "    # Pings CoralNet every N seconds to check the status of the job\n",
    "    while in_progress:\n",
    "        \n",
    "        curr_status, message = check_status(r)\n",
    "        \n",
    "        # Not complete yet, wait 60 seconds then ask again\n",
    "        if message != '': \n",
    "            if(reported):\n",
    "                print('.')\n",
    "            else:\n",
    "                print(message)\n",
    "            reported = True\n",
    "            time.sleep(patience) \n",
    "        \n",
    "        # Is complete, store the annotations in export, close loop\n",
    "        else: \n",
    "            print(\"Finished \", str(_ + 1), \" batch\" )\n",
    "            export['data'].extend(curr_status['data'])\n",
    "            in_progress = False\n",
    "\n",
    "\n",
    "print(\"\\nExporting annotations!\")\n",
    "# Creates a final json file with the relevant information included\n",
    "with open(f'{local_path}{folder_to_use}_Exported_Annotations.json', 'w') as outfile:\n",
    "      json.dump(export, outfile)"
   ]
  },
  {
   "cell_type": "code",
   "execution_count": null,
   "metadata": {},
   "outputs": [],
   "source": [
    "print(\"\\nExporting annotations!\")\n",
    "\n",
    "accumulative = open(f\"{local_path}_Exported_Annotations.json\")\n",
    "accumulative['data'].extend(export)\n",
    "    \n",
    "# Creates a final json file with the relevant information included\n",
    "with open(f'{local_path}{folder_to_use}_Exported_Annotations.json', 'w') as outfile:\n",
    "      json.dump(accumulative, outfile)"
   ]
  }
 ],
 "metadata": {
  "kernelspec": {
   "display_name": "Python 3",
   "language": "python",
   "name": "python3"
  },
  "language_info": {
   "codemirror_mode": {
    "name": "ipython",
    "version": 3
   },
   "file_extension": ".py",
   "mimetype": "text/x-python",
   "name": "python",
   "nbconvert_exporter": "python",
   "pygments_lexer": "ipython3",
   "version": "3.6.8"
  }
 },
 "nbformat": 4,
 "nbformat_minor": 2
}
